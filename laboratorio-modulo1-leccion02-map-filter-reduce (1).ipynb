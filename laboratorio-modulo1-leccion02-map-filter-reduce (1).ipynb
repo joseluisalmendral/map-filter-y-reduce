{
 "cells": [
  {
   "cell_type": "markdown",
   "metadata": {},
   "source": [
    "\n",
    "<div style=\"text-align: center;\">\n",
    "  <img src=\"https://github.com/Hack-io-Data/Imagenes/blob/main/01-LogosHackio/logo_celeste@4x.png?raw=true\" alt=\"esquema\" />\n",
    "</div>\n"
   ]
  },
  {
   "cell_type": "markdown",
   "metadata": {},
   "source": [
    "# Laboratorio de Python: map(), filter() y reduce()"
   ]
  },
  {
   "cell_type": "markdown",
   "metadata": {},
   "source": [
    "## Ejercicio 1. map ()"
   ]
  },
  {
   "cell_type": "markdown",
   "metadata": {},
   "source": [
    "1.1. Dada una lista de números, obtén una nueva lista con el doble de cada valor.\n",
    "\n",
    "1.2. Genera una función que al recibir una frase devuelva una lista con la longitud de cada palabra. Nota: también se puede solucionar con una `lambda`. \n",
    "\n",
    "1.3. Genera una función que convierta una lista de tuplas a una lista de strings, por ejemplo: \n",
    "\n",
    "```python\n",
    "lista_de_tuplas = [(\"Juan\", \"Pérez\"),(\"María\", \"García\"),(\"Luis\", \"Martínez\"),(\"Ana\", \"López\"),(\"Carlos\", \"Sánchez\"),(\"Elena\", \"Fernández\"),(\"Miguel\", \"González\")]\n",
    "\n",
    "\n",
    "# output esperado\n",
    "['Juan Pérez',\n",
    "'María García',\n",
    "'Luis Martínez',\n",
    "'Ana López',\n",
    "'Carlos Sánchez',\n",
    "'Elena Fernández',\n",
    "'Miguel González']\n",
    "```\n",
    "\n",
    "1.4. Crea una función que calcule la diferencia entre los valores correspondientes de dos listas. Debrás restar los elementos de las dos listas, devolviendo una nueva lista con las diferencias. Por ejemplo: \n",
    "\n",
    "```python\n",
    "# input\n",
    "numeros = [4, 8, 15, 16, 23, 42]\n",
    "numeros_2 = [5, 12, 37, 8, 23, 45]\n",
    "\n",
    "# output\n",
    "[1, 4, 22, -8, 0, 3]\n",
    "```\n",
    "\n",
    "1.5. Genera una función la cual, para un conjunto de caracteres, devuelva una lista de tuplas con cada letra en mayúsculas y minúsculas. Importante, no puede haber dos tuplas que contengan las mismas letras. Ejemplo:\n",
    "\n",
    "```python\n",
    "conjunto_caracteres = {'a', 'b', 'E', 'f', 'a', 'i', 'o', 'U', 'a'}\n",
    "\n",
    "# output\n",
    "{('A', 'a'),\n",
    " ('B', 'b'),\n",
    " ('E', 'e'),\n",
    " ('F', 'f'),\n",
    " ('I', 'i'),\n",
    " ('O', 'o'),\n",
    " ('U', 'u')}\n",
    "```\n",
    "\n",
    " "
   ]
  },
  {
   "cell_type": "code",
   "execution_count": 1,
   "metadata": {},
   "outputs": [
    {
     "name": "stdout",
     "output_type": "stream",
     "text": [
      "Lista numeros --> [15, 14, 10, 17, 6, 18, 3, 11, 18, 7]\n",
      "Lista numeros2 --> [30, 28, 20, 34, 12, 36, 6, 22, 36, 14]\n"
     ]
    }
   ],
   "source": [
    "#EJERCICIO 1.1 --> Dada una lista de números, obtén una nueva lista con el doble de cada valor.\n",
    "import random as ran\n",
    "\n",
    "lista_numeros = ran.choices(range(1, 20), k = 10)\n",
    "print(f\"Lista numeros --> {lista_numeros}\")\n",
    "\n",
    "lista_numeros2 = list(map(lambda x: x * 2, lista_numeros))\n",
    "print(f\"Lista numeros2 --> {lista_numeros2}\")"
   ]
  },
  {
   "cell_type": "code",
   "execution_count": 3,
   "metadata": {},
   "outputs": [
    {
     "name": "stdout",
     "output_type": "stream",
     "text": [
      "[('Esto', 4), ('es', 2), ('una', 3), ('frase', 5), ('de', 2), ('prueba', 6)]\n"
     ]
    }
   ],
   "source": [
    "#EJERCICIO 1.2 --> Genera una función que al recibir una frase devuelva una lista con la longitud de cada palabra. Nota: también se puede solucionar con una `lambda`. \n",
    "frase = \"Esto es una frase de prueba\"\n",
    "\n",
    "def devolver_longitud_palabras(frase):\n",
    "    palabras = frase.strip().split()\n",
    "\n",
    "    return list(map(lambda palabra: len(palabra), palabras))\n",
    "\n",
    "longitud_palabras = devolver_longitud_palabras(frase)\n",
    "\n",
    "print(list(zip(frase.split(),longitud_palabras)))\n",
    "\n"
   ]
  },
  {
   "cell_type": "code",
   "execution_count": 9,
   "metadata": {},
   "outputs": [
    {
     "data": {
      "text/plain": [
       "['Juan Pérez',\n",
       " 'María García',\n",
       " 'Luis Martínez',\n",
       " 'Ana López',\n",
       " 'Carlos Sánchez',\n",
       " 'Elena Fernández',\n",
       " 'Miguel González']"
      ]
     },
     "execution_count": 9,
     "metadata": {},
     "output_type": "execute_result"
    }
   ],
   "source": [
    "#EJERCICIO 1.3 --> Genera una función que convierta una lista de tuplas a una lista de strings, por ejemplo: \n",
    "\n",
    "lista_de_tuplas = [(\"Juan\", \"Pérez\"),(\"María\", \"García\"),(\"Luis\", \"Martínez\"),(\"Ana\", \"López\"),(\"Carlos\", \"Sánchez\"),(\"Elena\", \"Fernández\"),(\"Miguel\", \"González\")]\n",
    "\n",
    "def convertir_lista_strings(tupla):\n",
    "    return \" \".join(list(tupla))\n",
    "    \n",
    "\n",
    "lista_strings = list(map(convertir_lista_strings, lista_de_tuplas))\n",
    "lista_strings\n",
    "\n"
   ]
  },
  {
   "cell_type": "code",
   "execution_count": 12,
   "metadata": {},
   "outputs": [
    {
     "data": {
      "text/plain": [
       "[-1, -4, -22, 8, 0, -3]"
      ]
     },
     "execution_count": 12,
     "metadata": {},
     "output_type": "execute_result"
    }
   ],
   "source": [
    "#EJERCICIO 1.4 --> Crea una función que calcule la diferencia entre los valores correspondientes de dos listas. Debrás restar los elementos de las dos listas, devolviendo una nueva lista con las diferencias.\n",
    "\n",
    "numeros = [4, 8, 15, 16, 23, 42]\n",
    "numeros_2 = [5, 12, 37, 8, 23, 45]\n",
    "\n",
    "def calc_dif(n1, n2):\n",
    "    return n1 - n2\n",
    "\n",
    "resultado = list(map(calc_dif, numeros, numeros_2))\n",
    "resultado\n"
   ]
  },
  {
   "cell_type": "code",
   "execution_count": 15,
   "metadata": {},
   "outputs": [
    {
     "data": {
      "text/plain": [
       "[('B', 'b'),\n",
       " ('F', 'f'),\n",
       " ('U', 'u'),\n",
       " ('E', 'e'),\n",
       " ('A', 'a'),\n",
       " ('I', 'i'),\n",
       " ('O', 'o')]"
      ]
     },
     "execution_count": 15,
     "metadata": {},
     "output_type": "execute_result"
    }
   ],
   "source": [
    "#EJERCICIO 1.5 --> Genera una función la cual, para un conjunto de caracteres, devuelva una lista de tuplas con cada letra en mayúsculas y minúsculas. Importante, no puede haber dos tuplas que contengan las mismas letras.\n",
    "\n",
    "conjunto_caracteres = {'a', 'b', 'E', 'f', 'a', 'i', 'o', 'U', 'a'}\n",
    "\n",
    "hola = \"aldskjf\".upper\n",
    "\n",
    "def convertir_a_lista_tuplas(letra):\n",
    "    return (letra.upper(), letra.lower())\n",
    "\n",
    "resultado = list(map(convertir_a_lista_tuplas, set(conjunto_caracteres)))\n",
    "resultado\n"
   ]
  },
  {
   "cell_type": "markdown",
   "metadata": {},
   "source": [
    "## Ejercicio 2. Filter ()"
   ]
  },
  {
   "cell_type": "markdown",
   "metadata": {},
   "source": [
    "2.1. Crea una función que devuelva las palabras de una lista que comienzan con una letra específica. Por ejemplo:\n",
    "\n",
    "```python\n",
    "# input\n",
    "frase = 'Incluso la persona más pequeña puede cambiar el curso del futuro.'\n",
    "letra = 'p'\n",
    "\n",
    "# output\n",
    "['persona', 'pequeña', 'puede']\n",
    "```\n",
    "\n",
    "2.2. Para una lista con elementos tipo *integer* y *string*, obtén una nueva lista sólo con los valores de tipo *integer*.\n",
    "\n",
    "2.3. Escribe una función que tome una lista de nombres de mascotas como parámetro y devuelva una nueva lista excluyendo ciertas mascotas prohibidas en España. La lista de mascotas a excluir es [\"Mapache\", \"Tigre\", \"Serpiente Pitón\", \"Cocodrilo\", \"Oso\"].\n",
    "\n",
    "```python\n",
    "#input\n",
    "mascotas = ['Perro', 'Tigre', 'Gato', 'Oso', 'Erizo']\n",
    "\n",
    "# output\n",
    "['Perro', 'Gato', 'Erizo']\n",
    "```\n",
    "2.4. Escribe un programa en Python que cree una lista de diccionarios que contenga información de estudiantes (nombre, edad, calificación) y use la función filter para extraer a los estudiantes con una calificación mayor o igual a 90."
   ]
  },
  {
   "cell_type": "code",
   "execution_count": 22,
   "metadata": {},
   "outputs": [
    {
     "data": {
      "text/plain": [
       "['Incluso', 'cambiar']"
      ]
     },
     "execution_count": 22,
     "metadata": {},
     "output_type": "execute_result"
    }
   ],
   "source": [
    "#EJERCICIO 2.1 --> Crea una función que devuelva las palabras de una lista que comienzan con una letra específica.\n",
    "\n",
    "frase = 'Incluso la persona más pequeña puede cambiar el curso del futuro.'\n",
    "letra = 'i'\n",
    "\n",
    "def devolver_palabras(palabra):\n",
    "    return letra.lower() in palabra.lower()\n",
    "\n",
    "resultado = list(filter(devolver_palabras, frase.split()))\n",
    "resultado\n"
   ]
  },
  {
   "cell_type": "code",
   "execution_count": 25,
   "metadata": {},
   "outputs": [
    {
     "data": {
      "text/plain": [
       "[1, 3, 4, 5]"
      ]
     },
     "execution_count": 25,
     "metadata": {},
     "output_type": "execute_result"
    }
   ],
   "source": [
    "#EJERCICIO 2.2 --> Para una lista con elementos tipo *integer* y *string*, obtén una nueva lista sólo con los valores de tipo *integer*.\n",
    "\n",
    "lista = [1, \"hola\", 3, 4, 5, \"ladjsf\", \"lsdkjfdsakjfidb\"]\n",
    "\n",
    "def obtener_integers(valor):\n",
    "    return isinstance(valor, int)\n",
    "\n",
    "resultado = list(filter(obtener_integers, lista))\n",
    "resultado\n"
   ]
  },
  {
   "cell_type": "code",
   "execution_count": 27,
   "metadata": {},
   "outputs": [
    {
     "data": {
      "text/plain": [
       "['Perro', 'Gato', 'Erizo']"
      ]
     },
     "execution_count": 27,
     "metadata": {},
     "output_type": "execute_result"
    }
   ],
   "source": [
    "#EJERCICIO 2.3 --> Escribe una función que tome una lista de nombres de mascotas como parámetro y devuelva una nueva lista excluyendo ciertas mascotas prohibidas en España. La lista de mascotas a excluir es [\"Mapache\", \"Tigre\", \"Serpiente Pitón\", \"Cocodrilo\", \"Oso\"].\n",
    "\n",
    "exclusiones = [\"Mapache\", \"Tigre\", \"Serpiente Pitón\", \"Cocodrilo\", \"Oso\"]\n",
    "\n",
    "mascotas = ['Perro', 'Tigre', 'Gato', 'Oso', 'Erizo']\n",
    "\n",
    "def excluir_mascotas(mascota):\n",
    "    return mascota not in exclusiones\n",
    "\n",
    "resultado = list(filter(excluir_mascotas, mascotas))\n",
    "resultado\n",
    "\n",
    "\n"
   ]
  },
  {
   "cell_type": "code",
   "execution_count": 40,
   "metadata": {},
   "outputs": [
    {
     "name": "stdout",
     "output_type": "stream",
     "text": [
      "Nombres generados --> [{'nombre': 'Babür', 'edad': 59, 'calificacion': 84}, {'nombre': 'Rosalia', 'edad': 71, 'calificacion': 81}, {'nombre': 'Olga', 'edad': 95, 'calificacion': 98}, {'nombre': 'Arjun', 'edad': 80, 'calificacion': 89}, {'nombre': 'Babette', 'edad': 25, 'calificacion': 83}, {'nombre': 'Rocío', 'edad': 45, 'calificacion': 90}, {'nombre': 'Faith', 'edad': 49, 'calificacion': 85}, {'nombre': 'Emily', 'edad': 56, 'calificacion': 87}, {'nombre': 'Domas', 'edad': 4, 'calificacion': 83}, {'nombre': 'رها', 'edad': 4, 'calificacion': 89}]\n",
      "Alumnos filtrados --> [{'nombre': 'Olga', 'edad': 95, 'calificacion': 98}, {'nombre': 'Rocío', 'edad': 45, 'calificacion': 90}]\n"
     ]
    }
   ],
   "source": [
    "#EJERCICIO 2.4 --> Escribe un programa en Python que cree una lista de diccionarios que contenga información de estudiantes (nombre, edad, calificación) y use la función filter para extraer a los estudiantes con una calificación mayor o igual a 90.\n",
    "\n",
    "import requests\n",
    "import random\n",
    "\n",
    "#declaro cuantos alumnos quiero generar aleatoriamiente\n",
    "total_estudiantes = 10\n",
    "\n",
    "#llamo a la api con la data falsa\n",
    "response = requests.get(f\"https://randomuser.me/api/?results={total_estudiantes}\")\n",
    "\n",
    "#convierto la respuesta a diccionario para trabajar con el\n",
    "data = response.json()\n",
    "\n",
    "#genero la lista con los diccionarios\n",
    "nombres = [\n",
    "    { \n",
    "    \"nombre\": persona[\"name\"][\"first\"],\n",
    "    \"edad\": random.choices(range(1,100))[0],\n",
    "    \"calificacion\": random.choices(range(80,100))[0]\n",
    "    } for persona in data['results']]\n",
    "\n",
    "print(f\"Nombres generados --> {nombres}\")\n",
    "\n",
    "\n",
    "#funcion para quedarnos solo con los alumnos con calificacon >= a 90\n",
    "def extraer_alumnos(alumno):\n",
    "    return alumno['calificacion'] >= 90\n",
    "\n",
    "resultado = list(filter(extraer_alumnos, nombres))\n",
    "print(f\"Alumnos filtrados --> {resultado}\")\n",
    "\n"
   ]
  },
  {
   "cell_type": "markdown",
   "metadata": {},
   "source": [
    "## Ejercicio 3. Reduce ()"
   ]
  },
  {
   "cell_type": "markdown",
   "metadata": {},
   "source": [
    "3.1 Crea una función que tome una lista de dígitos y devuelva el número correspondiente. Por ejemplo, [5,7,2] corresponde al número quinientos setenta y dos (572).\n",
    "\n",
    "3.2. Dada una lista de números enteros, obtén el producto total de los valores de dicha lista\n",
    "\n",
    "3.3. Concatena una lista de palabras. Por ejemplo:\n",
    "\n",
    "```python\n",
    "# input\n",
    "lista_int_str = ['Un', 'mago', 'nunca']\n",
    "\n",
    "# output\n",
    "'Unmagonunca'\n",
    "```\n",
    "\n",
    "3.4. Calcula la diferencia total en los valores de una lista, es decir, crea un programa que vaya restando todos sus elementos.\n"
   ]
  },
  {
   "cell_type": "code",
   "execution_count": 43,
   "metadata": {},
   "outputs": [
    {
     "data": {
      "text/plain": [
       "'572'"
      ]
     },
     "execution_count": 43,
     "metadata": {},
     "output_type": "execute_result"
    }
   ],
   "source": [
    "#EJERCICIO 3.1 --> Crea una función que tome una lista de dígitos y devuelva el número correspondiente. Por ejemplo, [5,7,2] corresponde al número quinientos setenta y dos (572).\n",
    "from functools import reduce\n",
    "\n",
    "digitos = [5,7,2]\n",
    "\n",
    "def sacar_numero(n1, n2):\n",
    "    return str(n1) + str(n2)\n",
    "\n",
    "\n",
    "reduce(sacar_numero, digitos)"
   ]
  },
  {
   "cell_type": "code",
   "execution_count": 45,
   "metadata": {},
   "outputs": [
    {
     "data": {
      "text/plain": [
       "720"
      ]
     },
     "execution_count": 45,
     "metadata": {},
     "output_type": "execute_result"
    }
   ],
   "source": [
    "#EJERCICIO 3.2 --> Dada una lista de números enteros, obtén el producto total de los valores de dicha lista\n",
    "\n",
    "lista = [1,2,3,4,5,6]\n",
    "\n",
    "def producto_total(n1, n2):\n",
    "    return n1*n2\n",
    "\n",
    "reduce(producto_total, lista)\n"
   ]
  },
  {
   "cell_type": "code",
   "execution_count": 46,
   "metadata": {},
   "outputs": [
    {
     "data": {
      "text/plain": [
       "'Unmagonunca'"
      ]
     },
     "execution_count": 46,
     "metadata": {},
     "output_type": "execute_result"
    }
   ],
   "source": [
    "#EJERCICIO 3.3 --> Concatena una lista de palabras.\n",
    "\n",
    "lista = ['Un', 'mago', 'nunca']\n",
    "\n",
    "def concatenar_palabras(p1, p2):\n",
    "    return p1+p2\n",
    "\n",
    "reduce(concatenar_palabras, lista)\n"
   ]
  },
  {
   "cell_type": "code",
   "execution_count": 48,
   "metadata": {},
   "outputs": [
    {
     "data": {
      "text/plain": [
       "-19"
      ]
     },
     "execution_count": 48,
     "metadata": {},
     "output_type": "execute_result"
    }
   ],
   "source": [
    "#EJERCICIO 3.4 --> Calcula la diferencia total en los valores de una lista, es decir, crea un programa que vaya restando todos sus elementos.\n",
    "\n",
    "numeros = [1,2,3,4,5,6]\n",
    "\n",
    "def diferencia_total(n1, n2):\n",
    "    return n1 - n2\n",
    "\n",
    "reduce(diferencia_total, numeros)"
   ]
  },
  {
   "cell_type": "markdown",
   "metadata": {},
   "source": [
    "## Ejercicio 4. Ejercicios combinando las funciones"
   ]
  },
  {
   "cell_type": "markdown",
   "metadata": {},
   "source": [
    "4.1. Dada una lista de números, filtra los números positivos y calcula su promedio.\n",
    "\n",
    "4.2. Dada una lista de palabras, filtra las palabras que empiezan con una vocal, conviértelas a mayúsculas, y luego concaténalas en una sola cadena. \n",
    "\n",
    "4.3. Dada una lista numérica, filtra los números impares y calcula el producto de todos ellos \n",
    "\n",
    "4.4. Dada una lista de palabras, filtra las que contienen la letra 'a' y cuenta cuántas hay."
   ]
  },
  {
   "cell_type": "code",
   "execution_count": 52,
   "metadata": {},
   "outputs": [
    {
     "name": "stdout",
     "output_type": "stream",
     "text": [
      "[1, -2, 3, 4, -4, -5]\n",
      "[1, 3, 4]\n",
      "Promedio [1, 3, 4] --> 2.6666666666666665\n"
     ]
    }
   ],
   "source": [
    "#EJERCICIO 4.1. Dada una lista de números, filtra los números positivos y calcula su promedio.\n",
    "\n",
    "lista_numeros = [1, -2, 3, 4, -4, -5]\n",
    "print(lista_numeros)\n",
    "\n",
    "lista_numeros = list(filter(lambda x: x > 0, lista_numeros))\n",
    "print(lista_numeros)\n",
    "\n",
    "print(f\"Promedio {lista_numeros} --> {reduce(lambda x,y: x + y, lista_numeros) / len(lista_numeros)}\")"
   ]
  },
  {
   "cell_type": "code",
   "execution_count": 63,
   "metadata": {},
   "outputs": [
    {
     "data": {
      "text/plain": [
       "'OLAELIO'"
      ]
     },
     "execution_count": 63,
     "metadata": {},
     "output_type": "execute_result"
    }
   ],
   "source": [
    "#EJERCICIO 4.2. Dada una lista de palabras, filtra las palabras que empiezan con una vocal, conviértelas a mayúsculas, y luego concaténalas en una sola cadena. \n",
    "\n",
    "vocales = ('a', 'e', 'i', 'o', 'u')\n",
    "lista_palabras = ['Hola', 'fulanito', 'Ola', 'Elio', 'Palabra', 'cuco']\n",
    "\n",
    "#comprobamos que empiezan con vocal\n",
    "lista_palabras_filtradas = list(filter(lambda x: x.lower().startswith(vocales), lista_palabras))\n",
    "\n",
    "#convertimos a mayusculas\n",
    "lista_palabras_filtradas = list(map(lambda x: x.upper(), lista_palabras_filtradas))\n",
    "\n",
    "#concatenamos las restantes\n",
    "lista_palabras_filtradas = reduce(lambda x, y: x+y, lista_palabras_filtradas)\n",
    "lista_palabras_filtradas\n"
   ]
  },
  {
   "cell_type": "code",
   "execution_count": 65,
   "metadata": {},
   "outputs": [
    {
     "data": {
      "text/plain": [
       "48"
      ]
     },
     "execution_count": 65,
     "metadata": {},
     "output_type": "execute_result"
    }
   ],
   "source": [
    "#EJERCICIO 4.3. Dada una lista numérica, filtra los números impares y calcula el producto de todos ellos \n",
    "\n",
    "lista_numerica = [1, 2, 3, 4, 5, 6]\n",
    "\n",
    "lista_numerica_impar = list(filter(lambda x: x % 2 == 0, lista_numerica))\n",
    "\n",
    "resultado = reduce(lambda x, y: x*y, lista_numerica_impar)\n",
    "resultado"
   ]
  },
  {
   "cell_type": "code",
   "execution_count": 70,
   "metadata": {},
   "outputs": [
    {
     "name": "stdout",
     "output_type": "stream",
     "text": [
      "Cantidad de palabras con 'a' en ['Hola', 'fulanito', 'Ola', 'Elio', 'Palabra', 'cuco'] --> 4\n"
     ]
    }
   ],
   "source": [
    "#EJERCICIO 4.4. Dada una lista de palabras, filtra las que contienen la letra 'a' y cuenta cuántas hay.\n",
    "\n",
    "lista_palabras_con_a = list(filter(lambda x: 'a' in x.lower(), lista_palabras))\n",
    "\n",
    "print(f\"Cantidad de palabras con 'a' en {lista_palabras} --> {len(lista_palabras_con_a)}\")\n"
   ]
  }
 ],
 "metadata": {
  "kernelspec": {
   "display_name": "base",
   "language": "python",
   "name": "python3"
  },
  "language_info": {
   "codemirror_mode": {
    "name": "ipython",
    "version": 3
   },
   "file_extension": ".py",
   "mimetype": "text/x-python",
   "name": "python",
   "nbconvert_exporter": "python",
   "pygments_lexer": "ipython3",
   "version": "3.12.4"
  }
 },
 "nbformat": 4,
 "nbformat_minor": 2
}
